{
 "cells": [
  {
   "cell_type": "code",
   "execution_count": 1,
   "id": "a0507897-ca07-40e7-b1c3-5c110453026c",
   "metadata": {
    "tags": []
   },
   "outputs": [
    {
     "name": "stdout",
     "output_type": "stream",
     "text": [
      "Starting Spark application\n"
     ]
    },
    {
     "data": {
      "text/html": [
       "<table>\n",
       "<tr><th>ID</th><th>YARN Application ID</th><th>Kind</th><th>State</th><th>Spark UI</th><th>Driver log</th><th>User</th><th>Current session?</th></tr><tr><td>4208</td><td>application_1732639283265_4148</td><td>pyspark</td><td>idle</td><td><a target=\"_blank\" href=\"http://ip-192-168-1-36.eu-central-1.compute.internal:20888/proxy/application_1732639283265_4148/\">Link</a></td><td><a target=\"_blank\" href=\"http://ip-192-168-1-193.eu-central-1.compute.internal:8042/node/containerlogs/container_1732639283265_4148_01_000001/livy\">Link</a></td><td>None</td><td>✔</td></tr></table>"
      ],
      "text/plain": [
       "<IPython.core.display.HTML object>"
      ]
     },
     "metadata": {},
     "output_type": "display_data"
    },
    {
     "data": {
      "application/vnd.jupyter.widget-view+json": {
       "model_id": "",
       "version_major": 2,
       "version_minor": 0
      },
      "text/plain": [
       "FloatProgress(value=0.0, bar_style='info', description='Progress:', layout=Layout(height='25px', width='50%'),…"
      ]
     },
     "metadata": {},
     "output_type": "display_data"
    },
    {
     "name": "stdout",
     "output_type": "stream",
     "text": [
      "SparkSession available as 'spark'.\n"
     ]
    },
    {
     "data": {
      "application/vnd.jupyter.widget-view+json": {
       "model_id": "",
       "version_major": 2,
       "version_minor": 0
      },
      "text/plain": [
       "FloatProgress(value=0.0, bar_style='info', description='Progress:', layout=Layout(height='25px', width='50%'),…"
      ]
     },
     "metadata": {},
     "output_type": "display_data"
    },
    {
     "name": "stdout",
     "output_type": "stream",
     "text": [
      "Victim Descent Analysis - Top 3 Income Areas:\n",
      "+---------+------------+\n",
      "|Ethnicity|Victim_Count|\n",
      "+---------+------------+\n",
      "+---------+------------+\n",
      "\n",
      "\n",
      "Victim Descent Analysis - Bottom 3 Income Areas:\n",
      "+---------+------------+\n",
      "|Ethnicity|Victim_Count|\n",
      "+---------+------------+\n",
      "+---------+------------+"
     ]
    }
   ],
   "source": [
    "from pyspark.sql import SparkSession\n",
    "\n",
    "# Δημιουργία SparkSession\n",
    "spark = SparkSession.builder \\\n",
    "    .appName(\"Victim Descent Analysis SQL\") \\\n",
    "    .config(\"spark.executor.instances\", \"2\") \\\n",
    "    .config(\"spark.executor.cores\", \"1\") \\\n",
    "    .config(\"spark.executor.memory\", \"2g\") \\\n",
    "    .getOrCreate()\n",
    "\n",
    "# Φόρτωση δεδομένων από S3\n",
    "crime_data_path = \"s3://initial-notebook-data-bucket-dblab-905418150721/CrimeData/Crime_Data_from_2010_to_2019_20241101.csv\"\n",
    "income_data_path = \"s3://initial-notebook-data-bucket-dblab-905418150721/LA_income_2015.csv\"\n",
    "race_codes_path = \"s3://initial-notebook-data-bucket-dblab-905418150721/RE_codes.csv\"\n",
    "\n",
    "crime_df = spark.read.csv(crime_data_path, header=True, inferSchema=True)\n",
    "income_df = spark.read.csv(income_data_path, header=True, inferSchema=True)\n",
    "race_codes_df = spark.read.csv(race_codes_path, header=True, inferSchema=True)\n",
    "\n",
    "# Δημιουργία προσωρινών πινάκων\n",
    "crime_df.createOrReplaceTempView(\"crimes\")\n",
    "income_df.createOrReplaceTempView(\"income\")\n",
    "race_codes_df.createOrReplaceTempView(\"race_codes\")\n",
    "\n",
    "# Ερώτημα: Φιλτράρισμα δεδομένων εγκλημάτων για το 2015\n",
    "crime_2015_query = \"\"\"\n",
    "SELECT *\n",
    "FROM crimes\n",
    "WHERE YEAR(TO_DATE(SUBSTRING(`DATE OCC`, 1, 10), 'MM/dd/yyyy')) = 2015\n",
    "\"\"\"\n",
    "crime_2015_df = spark.sql(crime_2015_query)\n",
    "crime_2015_df.createOrReplaceTempView(\"crime_2015\")\n",
    "\n",
    "# Ερώτημα: Εύρεση περιοχών με υψηλότερο και χαμηλότερο εισόδημα\n",
    "top_3_income_query = \"\"\"\n",
    "SELECT `Zip Code`, `Estimated Median Income`\n",
    "FROM income\n",
    "ORDER BY `Estimated Median Income` DESC\n",
    "LIMIT 3\n",
    "\"\"\"\n",
    "bottom_3_income_query = \"\"\"\n",
    "SELECT `Zip Code`, `Estimated Median Income`\n",
    "FROM income\n",
    "ORDER BY `Estimated Median Income` ASC\n",
    "LIMIT 3\n",
    "\"\"\"\n",
    "top_3_income_df = spark.sql(top_3_income_query)\n",
    "bottom_3_income_df = spark.sql(bottom_3_income_query)\n",
    "\n",
    "# Λίστες με περιοχές υψηλού/χαμηλού εισοδήματος\n",
    "top_3_income_areas = [row[\"Zip Code\"] for row in top_3_income_df.collect()]\n",
    "bottom_3_income_areas = [row[\"Zip Code\"] for row in bottom_3_income_df.collect()]\n",
    "\n",
    "# Δημιουργία πινάκων για περιοχές υψηλού/χαμηλού εισοδήματος\n",
    "crime_top_income_query = f\"\"\"\n",
    "SELECT *\n",
    "FROM crime_2015\n",
    "WHERE `AREA NAME` IN ({', '.join([f\"'{area}'\" for area in top_3_income_areas])})\n",
    "\"\"\"\n",
    "crime_bottom_income_query = f\"\"\"\n",
    "SELECT *\n",
    "FROM crime_2015\n",
    "WHERE `AREA NAME` IN ({', '.join([f\"'{area}'\" for area in bottom_3_income_areas])})\n",
    "\"\"\"\n",
    "crime_top_income_df = spark.sql(crime_top_income_query)\n",
    "crime_bottom_income_df = spark.sql(crime_bottom_income_query)\n",
    "\n",
    "# Δημιουργία προσωρινών πινάκων για τα αποτελέσματα\n",
    "crime_top_income_df.createOrReplaceTempView(\"crime_top_income\")\n",
    "crime_bottom_income_df.createOrReplaceTempView(\"crime_bottom_income\")\n",
    "\n",
    "# Ερώτημα: Ανάλυση εγκλημάτων ανά φυλετικό προφίλ για υψηλό εισόδημα\n",
    "victims_by_descent_top_query = \"\"\"\n",
    "SELECT rc.`Vict Descent Full` AS Ethnicity, COUNT(*) AS Victim_Count\n",
    "FROM crime_top_income AS cti\n",
    "LEFT JOIN race_codes AS rc\n",
    "ON cti.`Vict Descent` = rc.`Vict Descent`\n",
    "GROUP BY rc.`Vict Descent Full`\n",
    "ORDER BY Victim_Count DESC\n",
    "\"\"\"\n",
    "victims_by_descent_bottom_query = \"\"\"\n",
    "SELECT rc.`Vict Descent Full` AS Ethnicity, COUNT(*) AS Victim_Count\n",
    "FROM crime_bottom_income AS cbi\n",
    "LEFT JOIN race_codes AS rc\n",
    "ON cbi.`Vict Descent` = rc.`Vict Descent`\n",
    "GROUP BY rc.`Vict Descent Full`\n",
    "ORDER BY Victim_Count DESC\n",
    "\"\"\"\n",
    "\n",
    "# Εκτέλεση ερωτημάτων\n",
    "victims_by_descent_top_df = spark.sql(victims_by_descent_top_query)\n",
    "victims_by_descent_bottom_df = spark.sql(victims_by_descent_bottom_query)\n",
    "\n",
    "# Εκτύπωση αποτελεσμάτων\n",
    "print(\"Victim Descent Analysis - Top 3 Income Areas:\")\n",
    "victims_by_descent_top_df.show()\n",
    "\n",
    "print(\"\\nVictim Descent Analysis - Bottom 3 Income Areas:\")\n",
    "victims_by_descent_bottom_df.show()\n",
    "\n",
    "\n"
   ]
  },
  {
   "cell_type": "code",
   "execution_count": null,
   "id": "69172087-0447-429f-b71f-77fc0ae6a216",
   "metadata": {},
   "outputs": [],
   "source": []
  },
  {
   "cell_type": "code",
   "execution_count": null,
   "id": "46bd4280-96c4-4007-ac17-fa447c4fc3fa",
   "metadata": {},
   "outputs": [],
   "source": []
  }
 ],
 "metadata": {
  "kernelspec": {
   "display_name": "Sparkmagic (PySpark)",
   "language": "python",
   "name": "pysparkkernel"
  },
  "language_info": {
   "codemirror_mode": {
    "name": "python",
    "version": 3
   },
   "file_extension": ".py",
   "mimetype": "text/x-python",
   "name": "pyspark",
   "pygments_lexer": "python3"
  }
 },
 "nbformat": 4,
 "nbformat_minor": 5
}
